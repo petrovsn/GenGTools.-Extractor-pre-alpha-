{
 "cells": [
  {
   "cell_type": "code",
   "execution_count": 1,
   "metadata": {},
   "outputs": [
    {
     "name": "stderr",
     "output_type": "stream",
     "text": [
      "G:\\Main\\Programs\\Anaconda2x64\\lib\\site-packages\\sklearn\\cross_validation.py:41: DeprecationWarning: This module was deprecated in version 0.18 in favor of the model_selection module into which all the refactored classes and functions are moved. Also note that the interface of the new CV iterators are different from that of this module. This module will be removed in 0.20.\n",
      "  \"This module will be removed in 0.20.\", DeprecationWarning)\n",
      "G:\\Main\\Programs\\Anaconda2x64\\lib\\site-packages\\sklearn\\ensemble\\weight_boosting.py:29: DeprecationWarning: numpy.core.umath_tests is an internal NumPy module and should not be imported. It will be removed in a future NumPy release.\n",
      "  from numpy.core.umath_tests import inner1d\n",
      "G:\\Main\\Programs\\Anaconda2x64\\lib\\site-packages\\sklearn\\learning_curve.py:22: DeprecationWarning: This module was deprecated in version 0.18 in favor of the model_selection module into which all the functions are moved. This module will be removed in 0.20\n",
      "  DeprecationWarning)\n"
     ]
    }
   ],
   "source": [
    "from sklearn import model_selection as cross_validation\n",
    "from sklearn import cross_validation, datasets, metrics, tree \n",
    "from sklearn import ensemble,  learning_curve\n",
    "import sklearn\n",
    "\n",
    "import numpy as np\n",
    "import pandas as pd\n",
    "from matplotlib import pyplot as plt \n",
    "import copy\n",
    "import re\n",
    "import math"
   ]
  },
  {
   "cell_type": "code",
   "execution_count": 2,
   "metadata": {},
   "outputs": [],
   "source": [
    "PATH = \"DM2L_FairTest/\"\n",
    "NAME = \"DM2L_\""
   ]
  },
  {
   "cell_type": "code",
   "execution_count": 3,
   "metadata": {},
   "outputs": [],
   "source": [
    "def loadgtf(s):\n",
    "    df = pd.read_csv(s, sep = '\\t',header=None)\n",
    "    genes = [df[8][i].split('\"')[1] for i,k in enumerate(df[8])]\n",
    "    df.columns = ['name','source','type','start','end','p1','strand','p2','genes']\n",
    "    df = df.drop(df[df.type == 'exon'].index)\n",
    "    return df\n",
    "\n",
    "def loadfasta(file):\n",
    "    fin = open(file,'r')\n",
    "    currkey = \"\"\n",
    "    Dres = {}\n",
    "    L = fin.readlines()\n",
    "    print len(L)\n",
    "    for l in L:\n",
    "        if l[0]=='>':\n",
    "            currkey = l[1:-1]\n",
    "            Dres[currkey] = \"\"\n",
    "        else:\n",
    "            Dres[currkey]=Dres[currkey]+l[:-1]\n",
    "    return Dres\n",
    "\n",
    "def loadreffasta(file):\n",
    "    fin = open(file,'r')\n",
    "    Ref = \"\"\n",
    "    L = fin.readlines()\n",
    "    print len(L)\n",
    "    wasenterpoint = False\n",
    "    for l in L:\n",
    "        if l[0]=='>':\n",
    "            if wasenterpoint:\n",
    "                print \"No single sequence\"\n",
    "                return\n",
    "            else:\n",
    "                wasenterpoint = True\n",
    "        else:\n",
    "            Ref=Ref+l[:-1]\n",
    "    return Ref\n",
    "\n",
    "def savereads(resf,out):\n",
    "        f = open(out,'w')\n",
    "        D_corr = {}\n",
    "        D_outf = {}\n",
    "        counter = 0\n",
    "        for t in resf[:]:\n",
    "            f.write('>r'+str(counter)+'\\n')\n",
    "            D_corr['r'+str(counter)] = t[0][0]\n",
    "            D_outf['r'+str(counter)] = t[0][1]\n",
    "            counter = counter+1\n",
    "            f.write(t[0][1]+'\\n')\n",
    "        f.close()\n",
    "        return D_outf"
   ]
  },
  {
   "cell_type": "code",
   "execution_count": 4,
   "metadata": {},
   "outputs": [],
   "source": [
    "from itertools import product\n",
    "def joinStrings(stringList):\n",
    "    return ''.join(string for string in stringList)\n",
    "def get_all_substrings(input_string, l):\n",
    "    length = len(input_string)-l\n",
    "    return [input_string[i:i+l] for i in xrange(length+1)]\n",
    "def getfeautures(read):\n",
    "    #print read\n",
    "    rep = 2\n",
    "    fs = {joinStrings(s):0 for s in product('ATCG', repeat=rep)}\n",
    "    \n",
    "    for sr in get_all_substrings(read,rep):\n",
    "        if ('N' not in sr and \n",
    "        'W' not in sr and\n",
    "        'Y' not in sr and\n",
    "        'S' not in sr and\n",
    "        'M' not in sr and\n",
    "        'R' not in sr):\n",
    "            fs[sr] = fs[sr] + 1\n",
    "    for k in fs:\n",
    "        fs[k] = fs[k]*1.0/len(read)\n",
    "    return fs.values()"
   ]
  },
  {
   "cell_type": "code",
   "execution_count": 5,
   "metadata": {},
   "outputs": [],
   "source": [
    "import re\n",
    "def getcoords(header):\n",
    "    T = re.findall(r'\\d{1,}\\.\\.\\d{1,}',  header)\n",
    "    return [(int(t[0]),int(t[1])) for t in [q.split('..') for q in T]]\n",
    "\n",
    "\n",
    "def getCDS(file):\n",
    "    return loadfasta(file)\n",
    "\n",
    "\n",
    "def getClobCoords(CDSdict):\n",
    "    Res = []\n",
    "    for k in CDSdict.keys():\n",
    "        Res = Res+getcoords(k)\n",
    "    return Res\n",
    "\n",
    "def getNonCDS(CDSdict, ref):\n",
    "    NonCDS = {}\n",
    "    L = list(set(getClobCoords(CDSdict)))\n",
    "    L.sort()\n",
    "    \n",
    "    start = 0\n",
    "    NonCDScords = []\n",
    "    for e in L:\n",
    "        NonCDScords.append((start,e[0]-2))\n",
    "        start = e[1]\n",
    "    print len(NonCDScords), len(L)\n",
    "    for cds in NonCDScords:\n",
    "        r = ref[cds[0]:cds[1]+1]\n",
    "        if r!=\"\":\n",
    "            NonCDS['r:'+str(cds[0])+'-'+str(cds[1]+1)] = r\n",
    "    return NonCDS"
   ]
  },
  {
   "cell_type": "code",
   "execution_count": 6,
   "metadata": {},
   "outputs": [],
   "source": [
    "def clean_read(s):\n",
    "    res = \"\"\n",
    "    R = s.split('\\n')\n",
    "    for r in R:\n",
    "        res = res+r\n",
    "    return res;\n",
    "\n",
    "def getrate(clf, read, l= 150):\n",
    "    l = min(len(read),l)\n",
    "    frames = [read[k:k+l] for k in range(0,len(read),l)]\n",
    "    #print frames\n",
    "    #print frames\n",
    "    objs = [getfeautures(k) for k in frames]\n",
    "    #feas = getfeautures(D[R7[4]])\n",
    "    res = clf.predict(objs)\n",
    "    #print res\n",
    "    return sum(res)*1.0/len(res)\n",
    "\n",
    "class Graph:\n",
    "    D_str = {}\n",
    "    D_edge = {}\n",
    "    D_rate = {}\n",
    "    def __init__(self, path):\n",
    "        f = open(path,'r')\n",
    "        L = []\n",
    "        D1 = {}\n",
    "        D_str = {}\n",
    "\n",
    "        last_node = \"\"\n",
    "        for s in f.readlines():\n",
    "            if s[0]=='>':\n",
    "                last_node = s[:-2].split(':')[0][1:]\n",
    "                L.append(s)\n",
    "                D1[last_node] = 0\n",
    "                D_str[last_node] = \"\"\n",
    "            else:\n",
    "                D_str[last_node] = D_str[last_node] + s;\n",
    "                D1[last_node] = D1[last_node]+len(s)-1\n",
    "\n",
    "        for a in D_str:\n",
    "            D_str[a] = clean_read(D_str[a])\n",
    "        D = {}\n",
    "        vertices = []\n",
    "        edges = []\n",
    "\n",
    "        D_edges = {}\n",
    "\n",
    "        for i,s in enumerate(L):\n",
    "            s_node = s[:-2].split(':')[0][1:]\n",
    "            D[s_node] = i\n",
    "            vertices.append(s_node)\n",
    "            K = s[:-2].split(':')\n",
    "            D_edges[s_node] = []\n",
    "            if (len(K)>1):\n",
    "                E = s[:-2].split(':')[1].split(',')\n",
    "                for e in E:\n",
    "                    D_edges[s_node].append(e)\n",
    "        \n",
    "        self.D_str = D_str\n",
    "        self.D_edges = D_edges\n",
    "        \n",
    "    def getmaxedge(self, E,  D, p = True,):\n",
    "        mx = -1\n",
    "        es = \"\"\n",
    "        if p:\n",
    "            for e in E:\n",
    "                if D[e]>mx:\n",
    "                    mx = D[e]\n",
    "                    es = e\n",
    "        else:\n",
    "            es = self.getmaxedge(E,D)\n",
    "            mx = D[es]\n",
    "            for e in E:\n",
    "                if D[e]<mx:\n",
    "                    mx = D[e]\n",
    "                    es = e\n",
    "        return es\n",
    "\n",
    "    def extracttracks(self, name, length, D, p = True, S_t = [],   c_len_t = 0):\n",
    "        S = copy.deepcopy(S_t)\n",
    "        #print S\n",
    "        D_str = self.D_str\n",
    "        c_len = c_len_t\n",
    "        if S == []:\n",
    "            S = [[name,D_str[name][:length].upper()]]\n",
    "        else:\n",
    "            for i,k in enumerate(S):\n",
    "                S[i][0] = S[i][0]+'&'+name\n",
    "                S[i][1] = S[i][1]+D_str[name][:(length-c_len)].upper();\n",
    "\n",
    "        c_len = len(S[0][1])\n",
    "        if (c_len == length):\n",
    "            return S\n",
    "\n",
    "        Rs = []\n",
    "        if len(self.D_edges[name])>0:\n",
    "            ans = self.getmaxedge(self.D_edges[name], D, p)\n",
    "            Rs2 = self.extracttracks(ans, length, D, p, S,  c_len)\n",
    "            Rs = Rs+Rs2\n",
    "        if (Rs == []):\n",
    "            return [['-','-']]\n",
    "        return Rs\n",
    "    \n",
    "    def countrate(self, clf):\n",
    "        for d in self.D_str.keys():\n",
    "            self.D_rate[d]=getrate(clf, self.D_str[d])\n",
    "    \n",
    "    def extractreads(self,p, l):\n",
    "        res = []\n",
    "        for t in self.D_str.keys():\n",
    "                res = res+self.extracttracks(t,l,self.D_rate,p)\n",
    "        res2 = {}\n",
    "        print len(res)\n",
    "        count = 0\n",
    "        for t in res:\n",
    "            if t[1]!='-':\n",
    "                #res2['extracted'+str(count)] = t[1]\n",
    "                res2[t[0]] = t[1]\n",
    "                count = count+1\n",
    "        return res2\n",
    "    def extractnames(self,p, l):\n",
    "        res = []\n",
    "        for t in self.D_str.keys():\n",
    "                res = res+self.extracttracks(t,l,self.D_rate,p)\n",
    "        res2 = {}\n",
    "        print len(res)\n",
    "        count = 0\n",
    "        for t in res:\n",
    "            if t[1]!='-':\n",
    "                res2['extracted'+str(count)] = t[0]\n",
    "                count = count+1\n",
    "        return res2"
   ]
  },
  {
   "cell_type": "code",
   "execution_count": 7,
   "metadata": {},
   "outputs": [],
   "source": [
    "def reverse(r):\n",
    "    s = \"\"\n",
    "    Damins = {'A':'T',\n",
    "              'T':'A',\n",
    "              'C':'G',\n",
    "              'G':'C'}\n",
    "    for i in range(len(r)-1,-1,-1):\n",
    "        print i\n",
    "        s = s+Damins[r[i]]\n",
    "    return s\n",
    "\n",
    "def extrcounter(gtf_df, ref):\n",
    "    D_anno2 = {}\n",
    "    for g in gtf_df.genes.values:\n",
    "        D_anno2[g]=gtf_df[gtf_df.genes == g][['name','start','end', 'strand']].values\n",
    "    D_anno3 = {}\n",
    "    for k in D_anno2:\n",
    "        s = \"\"\n",
    "        for c in D_anno2[k]:\n",
    "            s = s+ref[c[1]:c[2]]\n",
    "        if D_anno2[k][0][3]==-1:\n",
    "            s = reverse(s)\n",
    "        D_anno3[k] = s\n",
    "    return D_anno3\n",
    "\n",
    "def extrcounter_dataset(gtf_df, fasta_dict):\n",
    "    D_anno2 = {}\n",
    "    for g in gtf_df.genes.values:\n",
    "        D_anno2[g]=gtf_df[gtf_df.genes == g][['name','start','end', 'strand']].values\n",
    "    D_anno3 = {}\n",
    "    for k in D_anno2:\n",
    "        s = \"\"\n",
    "        name = D_anno2[k][0][0]\n",
    "        ref = fasta_dict[name]\n",
    "        for c in D_anno2[k]:\n",
    "            s = s+ref[c[1]:c[2]]\n",
    "        if D_anno2[k][0][3]==-1:\n",
    "            s = reverse(s)\n",
    "        D_anno3[k] = s\n",
    "    return D_anno3\n",
    "\n",
    "def savefasta(Dfa, name, pref = \"\"):\n",
    "    f = open(name,'w')\n",
    "    fnames = 0\n",
    "    if pref != \"\":\n",
    "        f_names = open(name+'.names','w')\n",
    "    counter = 0\n",
    "    for k in Dfa:\n",
    "        if pref == \"\":\n",
    "            f.write('>'+k+'\\n')\n",
    "        else:\n",
    "            f_names.write(pref+str(counter)+'\\t'+k+'\\n')\n",
    "            f.write('>'+pref+str(counter)+'\\n')\n",
    "        f.write(Dfa[k]+'\\n')\n",
    "        counter = counter+1\n",
    "    f.close()\n",
    "    if pref != \"\":\n",
    "        f_names.close()\n",
    "\n",
    "        \n",
    "\n",
    "def loadnames(filenames):\n",
    "    f = open(filenames,'r')\n",
    "    Dres = {}\n",
    "    for k in f.readlines():\n",
    "        tmp = k.split('\\t')\n",
    "        Dres[tmp[0]]=tmp[1][:-1]\n",
    "    return Dres\n",
    "    \n",
    "def savefirstnames(Dfa, name, pref = \"\"):\n",
    "    dR = {}\n",
    "    counter = 0\n",
    "    for k in Dfa:\n",
    "        dR[pref+str(counter)] = k\n",
    "        counter = counter+1\n",
    "    return dR"
   ]
  },
  {
   "cell_type": "code",
   "execution_count": 8,
   "metadata": {},
   "outputs": [],
   "source": [
    "from matplotlib_venn import venn2, venn2_circles, venn3\n",
    "def merge(frame1, frame2):\n",
    "    res = pd.concat([frame1, frame2], ignore_index=True)\n",
    "    return res\n",
    "\n",
    "def loadblastres(s):\n",
    "    df = pd.read_csv(s, sep = '\\t', header = None)\n",
    "    #\"6 qseqid sseqid pident length mismatch gapopen qstart qend sstart send evalue bitscore stitle qcovs\n",
    "    #df.columns= 'qseqid sseqid pident length mismatch gapopen qstart qend sstart send evalue bitscore'.split(' ')+'sgi sscinames scomnames sskingdoms stitle qcovs'.split(' ')\n",
    "    df.columns = \"qseqid sseqid pident length mismatch gapopen qstart qend sstart send evalue bitscore stitle qcovs\".split(' ')\n",
    "    df = df.loc[df.groupby([\"qseqid\"])[\"qcovs\"].idxmax()]\n",
    "    return df\n",
    "\n",
    "def getcrossstats(frame1, frame2, tresh, name1 = \"frame1\", name2 = \"frame2\"):\n",
    "    c1 = 0\n",
    "    c2 = 0\n",
    "    t1 = pd.Series(frame1[frame1.qcovs>tresh]['stitle'].values).unique()\n",
    "    t2 = pd.Series(frame2[frame2.qcovs>tresh]['stitle'].values).unique()\n",
    "    l1 = len(t1)\n",
    "    l2 = len(t2)\n",
    "    for s1 in t1:\n",
    "        if s1 in t2:\n",
    "            c1 = c1+1\n",
    "        else:\n",
    "            c2 = c2+1\n",
    "    \n",
    "    fig = plt.figure()\n",
    "    print c1, round(c1*100.0/l1), round(c1*100.0/l2,2)\n",
    "    venn2([set(t1),set(t2)], set_labels = [name1,name2])\n",
    "    #fig.savefig(\"venn_\"+name1+\"_\"+name2+\"_metrick_NNP.png\")\n",
    "def plot3venn(frame1, frame2, frame3, name1 = 'df1', name2 = 'df2', name3 = 'df3', pref = \"\", plot = False):\n",
    "    fig = plt.figure()\n",
    "    treshhold = 90\n",
    "    y1 = pd.Series(frame1[(frame1['qcovs']>treshhold)&(frame1['pident']>treshhold)]['stitle'].values).unique()\n",
    "    y2 = pd.Series(frame2[(frame2['qcovs']>treshhold)&(frame2['pident']>treshhold)]['stitle'].values).unique()\n",
    "    y3 = pd.Series(frame3[(frame3['qcovs']>treshhold)&(frame3['pident']>treshhold)]['stitle'].values).unique()\n",
    "   # y1t = [getname(t) for t in y1]\n",
    "    #y2t = [getname(t) for t in y2]\n",
    "   # y3t = [getname(t) for t in y3]\n",
    "    #res = (set(y1t).difference(set(y2t))).intersection(set(y3t))\n",
    "    \n",
    "    venn3([set(y1), set(y2), set(y3)], set_labels=[name1,name2,name3])\n",
    "    if plot:\n",
    "        fig.savefig(pref+name1+name2+name3+\".png\")\n"
   ]
  },
  {
   "cell_type": "code",
   "execution_count": 9,
   "metadata": {},
   "outputs": [],
   "source": [
    "def getprotset(frame1,treshhold = 90):\n",
    "    y1 = pd.Series(frame1[(frame1['qcovs']>treshhold)&(frame1['pident']>treshhold)]['stitle'].values).unique()\n",
    "    return set(y1)"
   ]
  },
  {
   "cell_type": "code",
   "execution_count": 10,
   "metadata": {},
   "outputs": [],
   "source": [
    "def getcuttedsequence(inp, outp,length, step, prefix = \"\"):\n",
    "    r = loadreffasta(inp)\n",
    "    fout = open(outp,'w')\n",
    "    for i in range(0,len(r)-length,step):\n",
    "        fout.write('>'+prefix+':'+str(i)+'\\n')\n",
    "        fout.write(r[i:i+length]+'\\n')\n",
    "    fout.close()"
   ]
  },
  {
   "cell_type": "code",
   "execution_count": 11,
   "metadata": {},
   "outputs": [],
   "source": [
    "DM2L_graph = Graph(PATH+NAME+'graph.fastg')"
   ]
  },
  {
   "cell_type": "code",
   "execution_count": 12,
   "metadata": {},
   "outputs": [
    {
     "name": "stdout",
     "output_type": "stream",
     "text": [
      "335913\n"
     ]
    }
   ],
   "source": [
    "DM2L_linearCDS = extrcounter_dataset(loadgtf(PATH+NAME+'linear.gtf'),{\"NT_033779.5 Drosophila melanogaster chromosome 2L\":loadreffasta(PATH+NAME+'linear.fasta')})"
   ]
  },
  {
   "cell_type": "code",
   "execution_count": 13,
   "metadata": {},
   "outputs": [
    {
     "name": "stdout",
     "output_type": "stream",
     "text": [
      "872146\n"
     ]
    }
   ],
   "source": [
    "DM2L_graphCDS = extrcounter_dataset(loadgtf(PATH+NAME+'graph.gtf'),loadfasta(PATH+NAME+'graph.fastg'))"
   ]
  },
  {
   "cell_type": "code",
   "execution_count": 14,
   "metadata": {},
   "outputs": [
    {
     "name": "stdout",
     "output_type": "stream",
     "text": [
      "420802\n"
     ]
    }
   ],
   "source": [
    "DM2L_contigsCDS = extrcounter_dataset(loadgtf(PATH+NAME+'contigs.gtf'),loadfasta(PATH+NAME+'contigs.fasta'))"
   ]
  },
  {
   "cell_type": "code",
   "execution_count": 15,
   "metadata": {},
   "outputs": [],
   "source": [
    "DM2L_graphCDSnames = savefirstnames(DM2L_graphCDS, PATH+NAME+\"graph_CDS.fa\", \"graphCDS\")\n",
    "DM2L_linearCDSnames = savefirstnames(DM2L_linearCDS, PATH+NAME+\"linear_CDS.fa\", \"linearCDS\")\n",
    "DM2L_contigsCDSnames = savefirstnames(DM2L_contigsCDS, PATH+NAME+\"contigs_CDS.fa\",\"contigsCDS\")"
   ]
  },
  {
   "cell_type": "code",
   "execution_count": null,
   "metadata": {},
   "outputs": [],
   "source": []
  },
  {
   "cell_type": "code",
   "execution_count": 16,
   "metadata": {},
   "outputs": [
    {
     "name": "stdout",
     "output_type": "stream",
     "text": [
      "54294\n"
     ]
    }
   ],
   "source": [
    "DM2L_tracksCDS = extrcounter_dataset(loadgtf(PATH+NAME+'graph_tracks.gtf'),loadfasta(PATH+NAME+'graph_tracks.fa'))\n",
    "DM2L_contigsCDSnames = savefirstnames(DM2L_tracksCDS, PATH+NAME+\"contigs_CDS.fa\",\"contigsCDS\")"
   ]
  },
  {
   "cell_type": "code",
   "execution_count": 17,
   "metadata": {},
   "outputs": [
    {
     "data": {
      "text/plain": [
       "['CTTTTGCGAACGCTTCAAACGCACCTGCCGACCCACCGATTGGTATCCGGTTGAGTTGGAGCATCGCCAGCAGTACGAGGAAGCTGTTAGCAATACGGATATGACCCAACA',\n",
       " 'GTTCACTCGCTTTGTTGCTGTGCGATGGTGAGTAGTGTGTATGGTGTATCTTGTATCTGTAGCTGCGTCTGTGCATAATGTATCTCC',\n",
       " 'TTTTTTTAACTTGTATGTTGTTTTAACCGTTTTTTTCTTTTTAATTTGTATGTTGTTTTA',\n",
       " 'TTTTTTAAAAGCGAAATATTTTTTTTAAACACTTTTAATGTTAATGTTACATCATTT',\n",
       " 'GTCATTAGAGTATTCATCTTGCGGCGTGTGAAAAATTAATAAGGCAATGATTGTTAAGTGCTTGTGTCCGCACTTCG',\n",
       " 'TGGTTGCGATGGGGCCACCTCACTAACTGAAGTGGGTTCCGGTTGTGTCTCGGGCGTTACTTCTTCTACGACTGTAGTCACCTCA',\n",
       " 'ATTGTTGATAATTTTGTCGGGGTGCGGCGAACGGTGCATTACCGAAATTGAGCATG',\n",
       " 'ATTCCATTTCCTCAAGCGGCCTGCCTCACTTGGCAAATGCAATTCACTGCAATTCAGTGCAATTCTGTGCCAGATTCATTCGTTTTAACATCACAGCATCTCACGTGCCACA',\n",
       " 'GAGCATACGTGTGCACACATACAGCTGTCTGCTATCACTGTATGCGTAGAAAAGACCTGTTCGCTGTAGCGCTCTCCGCT',\n",
       " 'TTTACATGATTTAACACTCAGCGAGCCACAAATGATAAATGAAATATACATATAATCGGGCATTGCTCAAATACACAAATTCAAATATGCGTGCCATAATAGTTTGGTTACTTTTCATTTTCTAACATTTTCCAGCATTTTCCCACATATTTTGCATTACATTACATCGTGCAGCTTGCTTCACAACTTAAACGGAAAGGTGTTTCTGATTCGAAAGTGGTAATCGTTTGATTTTCTGGGTTTAATCCTGTGTGTGATGTGGATGTGGACTGTTGGCTATTGTTCAGTGGGTGTTCTGGTCTGTTATTGGATGAGTTCAGCAGATCGCAGCGTGTAAGTTATTGTAAGTATTATTTTAAATCAATTTAACGCCATTGCGGTTTGCCAAACTCTAATTTGTAATATATGGTTTATTCTGTTCTATGTGTGTAATGCTAATAGTCTTATTTCTATGTAGTATGTAGCGTTTTTATGTGTAATCTATGTATGGTTTCTGTAATCAGTGTAGTTTGGTACAAACTAACTAATAAATGTTTCTAGTACGCTTTTAGAGATTATAATCTAATGGACTAAATCTTAGGACTAACTTGCAAGGAACAAGAACGATCACATGTCAAACAATATATATGTATATTATATATAGGTATGTATATATCGATATAGGTATGTATAGTCAAGATATAGAAGTTTGGGTGCATAAAACTCAGTGCACACCAGGAGGCACACTCATTCGACATCATGTATTCACTGCATTCACTCACTCGTTTACCTGATTCCACGAAGGCACAACGCAATAAAAGTTATTTCACACTCAGACATTTTGGTTTCGGGTAGTAACTGAGTAACTGAGTAATCAACTACATGTTTATGGACACATGTTCAATGTATCGGGTTAATATATCATATAGAAATCAATCAGTATTGTCGCTGCACTTAAGCCTATGGAAACTTGTACGTCTACGGCGTTTCGAACTAACTTAAGGAGTTACGCAGTTAAGTGCCGAATTGGCCAACTTACCATATTGCTTGGTGCGCACCGGAATGGGCGGGGTGGTGGCCCCCTCGCCACGTTGCGACCTTGCAGCCAGCCAGATGTAGTAGAGGGTATCGGGGTAGAGTCCGTCCAGGGTATACGCCTCCGAGTTGGAAATGCGCCTGAAAGAGGAGCGCACATGGTTGTGAACTGTTCTATGTACGCGTGTGCTTGGGGTTTCGGATTTCATCGCCCGGATTTTGGGGTTAACTCCGAGACTAAGGACTCACTTGTGATGGGCCTGATTGGCGTATGTGTCATTCCAGTAGAGCTCGTAGTGCACGATATTCTCGCTGGAATGCGTCGGCTTGGTCCATTGCAGTGTGACTGCGGTCTCGCCGATATCGGTTGCCCGGAAATTGCTCGGTTGCGATGGCACACCTTTGTAGACATATCCGTATTTCATATTCCGGGTGGTTTTCGGTGTTATTTTGGGTGGTTTTGGGTGTCGAGGGTTTGGTGTGCGTTGTTTGCCGGTTGGGAATTGCATTTGGTTTTTGGTTTGGTTATAATGAAACGGAAATTACGGAAATTAAATAAAATACAAACAAATCAATGTGGGGCATTTGTTTGCATGCCGATGGATCCGAGCGATAGCGATTCCAATTCAGAATGCTGCCTGATACTGATGAGGTGACACACGCACACCAATCGCTGCATCAGCATTTTGAATTCCTATTTGGTTTCGGTATGAAATTGATTGAGATGTGTCCATCTATTCAAACACCGAATAACCCGCCCGGCCCATTCGATATTTCTGAATATTTCAGCGCCCACCACGGAAGCCAGATGGGAAAACTCGTAGAGAAAATGATTATCAATTTTCAAATATTCCTGCTCCCCAGGGGAGCCAACGACGAAGATCCCTGTCATCGCTTTGAAGTTTTACGTTTTAATGAATTAAACGAAGTCATTTGCGAACTGCCAAGTGGCCTTGTGTACAAGTATGTACATAGATTGGCTTTAAGAGTTACATGGCTTAATTGAACCGACCCCAAA']"
      ]
     },
     "execution_count": 17,
     "metadata": {},
     "output_type": "execute_result"
    }
   ],
   "source": [
    "DM2L_graph.D_str.values()[:10]"
   ]
  },
  {
   "cell_type": "code",
   "execution_count": null,
   "metadata": {},
   "outputs": [],
   "source": []
  },
  {
   "cell_type": "code",
   "execution_count": 18,
   "metadata": {},
   "outputs": [
    {
     "name": "stdout",
     "output_type": "stream",
     "text": [
      "335913\n",
      "172368\n",
      "11111 11111\n",
      "datasets length: 5684 10344\n"
     ]
    },
    {
     "data": {
      "text/plain": [
       "RandomForestClassifier(bootstrap=True, class_weight=None, criterion='gini',\n",
       "            max_depth=4, max_features='auto', max_leaf_nodes=None,\n",
       "            min_impurity_decrease=0.0, min_impurity_split=None,\n",
       "            min_samples_leaf=1, min_samples_split=2,\n",
       "            min_weight_fraction_leaf=0.0, n_estimators=25, n_jobs=1,\n",
       "            oob_score=False, random_state=1, verbose=0, warm_start=False)"
      ]
     },
     "execution_count": 18,
     "metadata": {},
     "output_type": "execute_result"
    }
   ],
   "source": [
    "DM2L_chrom = loadreffasta(PATH+NAME+'linear.fasta')\n",
    "DM2L_refCDS = getCDS(PATH+NAME+'refCDS.fasta')\n",
    "DM2L_refNonCDS = getNonCDS(DM2L_refCDS, DM2L_chrom)\n",
    "X = [getfeautures(r) for r in DM2L_refCDS.values()]\n",
    "X_neg = [getfeautures(r) for r in DM2L_refNonCDS.values()]\n",
    "print \"datasets length:\", len(X),len(X_neg)\n",
    "k = 4000\n",
    "X_train = X[:k]+X_neg[:k]\n",
    "X_test = X[k:2*k]+X_neg[k:2*k]\n",
    "y_train = [1]*len(X[:k])+[0]*len(X_neg[:k])\n",
    "y_test = [1]*len(X[k:2*k])+[0]*len(X_neg[k:2*k])\n",
    "from sklearn.model_selection import cross_val_score\n",
    "from sklearn.metrics import precision_recall_fscore_support as ttest\n",
    "clf = ensemble.RandomForestClassifier(n_estimators = 25, max_depth = 4, random_state = 1)\n",
    "cross_val_score(clf, X_train,y_train, cv = 20).mean()\n",
    "clf.fit(X_train,y_train)"
   ]
  },
  {
   "cell_type": "code",
   "execution_count": 19,
   "metadata": {},
   "outputs": [],
   "source": [
    "DM2L_graph.countrate(clf)"
   ]
  },
  {
   "cell_type": "code",
   "execution_count": 20,
   "metadata": {},
   "outputs": [
    {
     "name": "stdout",
     "output_type": "stream",
     "text": [
      "49748\n",
      "49748\n"
     ]
    }
   ],
   "source": [
    "DM2L_track_names = DM2L_graph.extractnames(True, 5000)\n",
    "DM2L_graph_tracks = DM2L_graph.extractreads(True, 5000)\n",
    "savefasta(DM2L_graph_tracks, PATH+NAME+\"graph_tracks.fa\", \"graph_tracks\")\n",
    "DM2L_graph_tracks_names = savefirstnames(DM2L_graph_tracks, PATH+NAME+\"graph_tracks.fa\", \"graph_tracks\")"
   ]
  },
  {
   "cell_type": "code",
   "execution_count": 21,
   "metadata": {},
   "outputs": [
    {
     "name": "stdout",
     "output_type": "stream",
     "text": [
      "54294\n"
     ]
    }
   ],
   "source": [
    "DM2L_graph_tracksCDS = extrcounter_dataset(loadgtf(PATH+NAME+\"graph_tracks.gtf\"),loadfasta(PATH+NAME+\"graph_tracks.fa\"))"
   ]
  },
  {
   "cell_type": "code",
   "execution_count": 22,
   "metadata": {},
   "outputs": [],
   "source": [
    "savefasta(DM2L_graph_tracksCDS, PATH+NAME+\"graph_tracksCDS.fa\", \"graph_tracksCDS\")\n",
    "DM2L_graph_tracksCDS_names = savefirstnames(DM2L_graph_tracksCDS, PATH+NAME+\"graph_tracksCDS.fa\", \"graph_tracksCDS\")"
   ]
  },
  {
   "cell_type": "code",
   "execution_count": 23,
   "metadata": {},
   "outputs": [],
   "source": [
    "prot_linear = loadblastres(PATH+NAME+\"linear_CDS.fa.blt\")\n",
    "prot_ref = loadblastres(PATH+NAME+\"ref_CDS.fa.blt\")\n",
    "prot_graph = loadblastres(PATH+NAME+\"graph_CDS.fa.blt\")\n",
    "prot_contigs = loadblastres(PATH+NAME+\"contigs_CDS.fa.blt\")\n",
    "prot_tracks = loadblastres(PATH+NAME+\"graph_tracksCDS.fa.blt\")\n",
    "prot_graph_ex = merge(prot_graph,prot_tracks)\n",
    "prot_grapg_mixed = merge(prot_graph_ex,prot_contigs)"
   ]
  },
  {
   "cell_type": "code",
   "execution_count": 24,
   "metadata": {},
   "outputs": [],
   "source": [
    "PREF = 'final'"
   ]
  },
  {
   "cell_type": "code",
   "execution_count": 25,
   "metadata": {},
   "outputs": [
    {
     "data": {
      "image/png": "[encoded data removed]",
      "text/plain": [
       "<Figure size 432x288 with 1 Axes>"
      ]
     },
     "metadata": {},
     "output_type": "display_data"
    }
   ],
   "source": [
    "plot3venn(prot_contigs,prot_tracks,prot_ref,'contigs','tracks','reference', PATH+PREF, False)"
   ]
  },
  {
   "cell_type": "code",
   "execution_count": 26,
   "metadata": {},
   "outputs": [
    {
     "data": {
      "image/png": "[encoded data removed]",
      "text/plain": [
       "<Figure size 432x288 with 1 Axes>"
      ]
     },
     "metadata": {},
     "output_type": "display_data"
    }
   ],
   "source": [
    "plot3venn(prot_linear,prot_grapg_mixed,prot_ref,'linear','tracks+contigs','reference', PATH+PREF, True)"
   ]
  },
  {
   "cell_type": "code",
   "execution_count": 27,
   "metadata": {},
   "outputs": [
    {
     "data": {
      "image/png": "[encoded data removed]",
      "text/plain": [
       "<Figure size 432x288 with 1 Axes>"
      ]
     },
     "metadata": {},
     "output_type": "display_data"
    }
   ],
   "source": [
    "plot3venn(prot_contigs,prot_tracks,prot_ref,'contigs','tracks','reference', PATH+PREF)"
   ]
  },
  {
   "cell_type": "code",
   "execution_count": 28,
   "metadata": {},
   "outputs": [
    {
     "data": {
      "image/png": "[encoded data removed]",
      "text/plain": [
       "<Figure size 432x288 with 1 Axes>"
      ]
     },
     "metadata": {},
     "output_type": "display_data"
    }
   ],
   "source": [
    "plot3venn(prot_contigs,prot_tracks,prot_ref,'contigs','tracks','reference', PATH+PREF)"
   ]
  },
  {
   "cell_type": "code",
   "execution_count": 29,
   "metadata": {},
   "outputs": [
    {
     "data": {
      "text/html": [
       "<div>\n",
       "<style scoped>\n",
       "    .dataframe tbody tr th:only-of-type {\n",
       "        vertical-align: middle;\n",
       "    }\n",
       "\n",
       "    .dataframe tbody tr th {\n",
       "        vertical-align: top;\n",
       "    }\n",
       "\n",
       "    .dataframe thead th {\n",
       "        text-align: right;\n",
       "    }\n",
       "</style>\n",
       "<table border=\"1\" class=\"dataframe\">\n",
       "  <thead>\n",
       "    <tr style=\"text-align: right;\">\n",
       "      <th></th>\n",
       "      <th>qseqid</th>\n",
       "      <th>sseqid</th>\n",
       "      <th>pident</th>\n",
       "      <th>length</th>\n",
       "      <th>mismatch</th>\n",
       "      <th>gapopen</th>\n",
       "      <th>qstart</th>\n",
       "      <th>qend</th>\n",
       "      <th>sstart</th>\n",
       "      <th>send</th>\n",
       "      <th>evalue</th>\n",
       "      <th>bitscore</th>\n",
       "      <th>stitle</th>\n",
       "      <th>qcovs</th>\n",
       "    </tr>\n",
       "  </thead>\n",
       "  <tbody>\n",
       "    <tr>\n",
       "      <th>0</th>\n",
       "      <td>linearCDS0</td>\n",
       "      <td>gi|75037838|sp|Q4TTV7.1|GPL_GLOAU</td>\n",
       "      <td>43.23</td>\n",
       "      <td>266</td>\n",
       "      <td>129</td>\n",
       "      <td>10</td>\n",
       "      <td>769</td>\n",
       "      <td>5</td>\n",
       "      <td>20</td>\n",
       "      <td>274</td>\n",
       "      <td>9.000000e-57</td>\n",
       "      <td>189.0</td>\n",
       "      <td>RecName: Full=Lectizyme; AltName: Full=Proteol...</td>\n",
       "      <td>91</td>\n",
       "    </tr>\n",
       "    <tr>\n",
       "      <th>1416</th>\n",
       "      <td>linearCDS10</td>\n",
       "      <td>gi|85701303|sp|P07713.2|DECA_DROME</td>\n",
       "      <td>100.00</td>\n",
       "      <td>280</td>\n",
       "      <td>0</td>\n",
       "      <td>0</td>\n",
       "      <td>1491</td>\n",
       "      <td>2330</td>\n",
       "      <td>309</td>\n",
       "      <td>588</td>\n",
       "      <td>0.000000e+00</td>\n",
       "      <td>538.0</td>\n",
       "      <td>RecName: Full=Protein decapentaplegic; Short=P...</td>\n",
       "      <td>74</td>\n",
       "    </tr>\n",
       "    <tr>\n",
       "      <th>14569</th>\n",
       "      <td>linearCDS100</td>\n",
       "      <td>gi|550544315|sp|Q61789.4|LAMA3_MOUSE</td>\n",
       "      <td>33.08</td>\n",
       "      <td>402</td>\n",
       "      <td>212</td>\n",
       "      <td>10</td>\n",
       "      <td>744</td>\n",
       "      <td>1811</td>\n",
       "      <td>148</td>\n",
       "      <td>538</td>\n",
       "      <td>8.000000e-65</td>\n",
       "      <td>217.0</td>\n",
       "      <td>RecName: Full=Laminin subunit alpha-3; AltName...</td>\n",
       "      <td>87</td>\n",
       "    </tr>\n",
       "    <tr>\n",
       "      <th>248249</th>\n",
       "      <td>linearCDS1000</td>\n",
       "      <td>gi|1353154|sp|Q09575.1|YRD6_CAEEL</td>\n",
       "      <td>23.57</td>\n",
       "      <td>157</td>\n",
       "      <td>100</td>\n",
       "      <td>6</td>\n",
       "      <td>2396</td>\n",
       "      <td>2866</td>\n",
       "      <td>489</td>\n",
       "      <td>625</td>\n",
       "      <td>1.100000e+00</td>\n",
       "      <td>37.4</td>\n",
       "      <td>RecName: Full=Uncharacterized protein K02A2.6</td>\n",
       "      <td>14</td>\n",
       "    </tr>\n",
       "    <tr>\n",
       "      <th>248264</th>\n",
       "      <td>linearCDS1001</td>\n",
       "      <td>gi|94730363|sp|O02350.3|CBPA1_ANOGA</td>\n",
       "      <td>50.26</td>\n",
       "      <td>189</td>\n",
       "      <td>93</td>\n",
       "      <td>1</td>\n",
       "      <td>682</td>\n",
       "      <td>1248</td>\n",
       "      <td>237</td>\n",
       "      <td>424</td>\n",
       "      <td>2.000000e-54</td>\n",
       "      <td>192.0</td>\n",
       "      <td>RecName: Full=Zinc carboxypeptidase A 1; AltNa...</td>\n",
       "      <td>94</td>\n",
       "    </tr>\n",
       "  </tbody>\n",
       "</table>\n",
       "</div>"
      ],
      "text/plain": [
       "               qseqid                                sseqid  pident  length  \\\n",
       "0          linearCDS0     gi|75037838|sp|Q4TTV7.1|GPL_GLOAU   43.23     266   \n",
       "1416      linearCDS10    gi|85701303|sp|P07713.2|DECA_DROME  100.00     280   \n",
       "14569    linearCDS100  gi|550544315|sp|Q61789.4|LAMA3_MOUSE   33.08     402   \n",
       "248249  linearCDS1000     gi|1353154|sp|Q09575.1|YRD6_CAEEL   23.57     157   \n",
       "248264  linearCDS1001   gi|94730363|sp|O02350.3|CBPA1_ANOGA   50.26     189   \n",
       "\n",
       "        mismatch  gapopen  qstart  qend  sstart  send        evalue  bitscore  \\\n",
       "0            129       10     769     5      20   274  9.000000e-57     189.0   \n",
       "1416           0        0    1491  2330     309   588  0.000000e+00     538.0   \n",
       "14569        212       10     744  1811     148   538  8.000000e-65     217.0   \n",
       "248249       100        6    2396  2866     489   625  1.100000e+00      37.4   \n",
       "248264        93        1     682  1248     237   424  2.000000e-54     192.0   \n",
       "\n",
       "                                                   stitle  qcovs  \n",
       "0       RecName: Full=Lectizyme; AltName: Full=Proteol...     91  \n",
       "1416    RecName: Full=Protein decapentaplegic; Short=P...     74  \n",
       "14569   RecName: Full=Laminin subunit alpha-3; AltName...     87  \n",
       "248249      RecName: Full=Uncharacterized protein K02A2.6     14  \n",
       "248264  RecName: Full=Zinc carboxypeptidase A 1; AltNa...     94  "
      ]
     },
     "execution_count": 29,
     "metadata": {},
     "output_type": "execute_result"
    }
   ],
   "source": [
    "prot_linear.head()"
   ]
  },
  {
   "cell_type": "code",
   "execution_count": 30,
   "metadata": {},
   "outputs": [],
   "source": [
    "prot_linear_cutted = loadblastres(PATH+NAME+\"linear_cuttedCDS.blt\")"
   ]
  },
  {
   "cell_type": "code",
   "execution_count": 31,
   "metadata": {},
   "outputs": [],
   "source": [
    "def getsector(pp1,pp2,pp3): #returns proteins\n",
    "    return list((getprotset(pp1).difference(getprotset(pp2))).intersection(getprotset(pp3)))\n",
    "\n",
    "def originnames(bltfile, listprots, tresh = 90): #returns name of seq\n",
    "    R ={}\n",
    "    for l in listprots:\n",
    "        tk = bltfile[(bltfile['stitle'] == l)&(bltfile['qcovs']>tresh)&(bltfile['pident']>tresh)][\"qseqid\"].values\n",
    "        R[l]=[]\n",
    "        for k in tk:\n",
    "            R[l].append(k)\n",
    "    return R\n",
    "def originseqs(CDSnames, NamesDict, gtf_db):\n",
    "    q = []\n",
    "    for k in CDSnames:\n",
    "        q.append(NamesDict[k])\n",
    "    return gtf_db[gtf_db['genes'].isin(q)]\n",
    "\n",
    "\n",
    "def transname(s):\n",
    "    if ':' in s:\n",
    "        return s.split(':')[0]\n",
    "    else:\n",
    "        return s[:-1]\n",
    "\n",
    "\n",
    "def origgtf(pp1,pp2,pp3,gtf,NamesDict):\n",
    "    listprots = getsector(pp1,pp2,pp3)\n",
    "    print len(listprots), listprots[0]\n",
    "    tmp = originnames(pp1,listprots)\n",
    "    tmp2 = originseqs(tmp,NamesDict,gtf)\n",
    "    return tmp\n",
    "\n",
    "def gettranscr(CDSnames, NamesDict, gtf_db):\n",
    "    q = []\n",
    "    for k in CDSnames:\n",
    "        q.append(NamesDict[k])\n",
    "    return gtf_db[gtf_db['genes'].isin(q)]\n",
    "\n",
    "def extractgenestartend(gtf_df, names):\n",
    "    D_anno2 = {}\n",
    "    for g in gtf_df.genes.values:\n",
    "        D_anno2[g]=gtf_df[gtf_df.genes == g][['name','start','end', 'strand']].values\n",
    "       \n",
    "    D_anno3 = {}\n",
    "    for g in D_anno2:\n",
    "        n = D_anno2[g][0][0]\n",
    "        D_anno3[names[n]] = getrange(D_anno2[g])\n",
    "    return D_anno3\n",
    "\n",
    "def getrange(part):\n",
    "    mn = min(part[0][1],part[0][2])\n",
    "    mx = min(part[0][1],part[0][2])\n",
    "    for p in part:\n",
    "        for i in range(1,3):\n",
    "            if p[i]>mx:\n",
    "                mx = p[i]\n",
    "            if p[i]<mn:\n",
    "                mn = p[i]\n",
    "    return (mn,mx)\n",
    "\n",
    "\n",
    "def branchparser(s,GR):\n",
    "    s1 = s.split('&')\n",
    "    #print s1\n",
    "    res = [0]\n",
    "    for s2 in s1:\n",
    "        res.append(res[-1]+len(GR.D_str[s2]))\n",
    "    return res\n",
    "\n",
    "def isbranch(s,coords,GR):\n",
    "    s1 = branchparser(s,GR)\n",
    "    for tmp1 in s1:\n",
    "        if (tmp1<coords[1]) and (tmp1>coords[0]):\n",
    "            return True\n",
    "    return False"
   ]
  },
  {
   "cell_type": "code",
   "execution_count": 32,
   "metadata": {},
   "outputs": [],
   "source": [
    "NewTracksGtf = loadgtf(PATH+NAME+'graph_tracks.gtf')"
   ]
  },
  {
   "cell_type": "code",
   "execution_count": 33,
   "metadata": {},
   "outputs": [
    {
     "name": "stdout",
     "output_type": "stream",
     "text": [
      "49 RecName: Full=Centaurin-gamma-1A\n"
     ]
    }
   ],
   "source": [
    "newProts = getsector(prot_tracks,prot_contigs,prot_ref)\n",
    "print len(newProts), newProts[0]"
   ]
  },
  {
   "cell_type": "code",
   "execution_count": 34,
   "metadata": {},
   "outputs": [
    {
     "name": "stdout",
     "output_type": "stream",
     "text": [
      "RecName: Full=Galactosylgalactosylxylosylprotein 3-beta-glucuronosyltransferase S; AltName: Full=Beta-1,3-glucuronyltransferase S; AltName: Full=Glucuronosyltransferase S; Short=GlcAT-S; AltName: Full=UDP-glucuronosyltransferase S; Short=DmGlcAT-BSI ['graph_tracksCDS10424', 'graph_tracksCDS12320', 'graph_tracksCDS13358', 'graph_tracksCDS5593', 'graph_tracksCDS5763']\n"
     ]
    }
   ],
   "source": [
    "newCDS = originnames(prot_tracks,newProts)\n",
    "k = newCDS.keys()[1]\n",
    "print k, newCDS[k]"
   ]
  },
  {
   "cell_type": "code",
   "execution_count": 35,
   "metadata": {},
   "outputs": [],
   "source": [
    "df1 = []\n",
    "for k in newCDS:\n",
    "    for n in [originseqs(newCDS[k],DM2L_graph_tracksCDS_names,NewTracksGtf)['name'].values[0]]:\n",
    "        df1.append(n)"
   ]
  },
  {
   "cell_type": "code",
   "execution_count": 36,
   "metadata": {},
   "outputs": [
    {
     "data": {
      "text/plain": [
       "48"
      ]
     },
     "execution_count": 36,
     "metadata": {},
     "output_type": "execute_result"
    }
   ],
   "source": [
    "len(set(df1))"
   ]
  },
  {
   "cell_type": "code",
   "execution_count": 37,
   "metadata": {},
   "outputs": [
    {
     "name": "stdout",
     "output_type": "stream",
     "text": [
      "54294\n"
     ]
    }
   ],
   "source": [
    "outex = loadfasta(PATH+NAME+\"graph_tracks.fa\")"
   ]
  },
  {
   "cell_type": "code",
   "execution_count": 63,
   "metadata": {},
   "outputs": [],
   "source": [
    "f = open(PATH+NAME+\"RNAtracks.fa\",'w')\n",
    "for k in set(df1):\n",
    "    f.write('>'+k+'\\n')\n",
    "    f.write(outex[k]+'\\n')\n",
    "f.close()\n",
    "    "
   ]
  },
  {
   "cell_type": "code",
   "execution_count": 37,
   "metadata": {},
   "outputs": [],
   "source": [
    "newCDS2 = {}\n",
    "for k in newCDS:\n",
    "    tmp1 = originseqs(newCDS[k],DM2L_graph_tracksCDS_names,NewTracksGtf)\n",
    "    tmp2 = extractgenestartend(tmp1,DM2L_graph_tracks_names)\n",
    "    newCDS2[k]=tmp2"
   ]
  },
  {
   "cell_type": "code",
   "execution_count": 38,
   "metadata": {},
   "outputs": [
    {
     "name": "stdout",
     "output_type": "stream",
     "text": [
      "RecName: Full=Centaurin-gamma-1A {\"EDGE_11588_length_117_cov_2.70968'&EDGE_8907_length_34643_cov_5.4725'\": (2700L, 4977L), \"EDGE_17198_length_72_cov_26.9412'&EDGE_2021_length_56_cov_80'&EDGE_4531_length_93_cov_130.079'&EDGE_22313_length_161_cov_145.123'&EDGE_6724_length_206_cov_148.536'&EDGE_23850_length_232_cov_39.1073'&EDGE_4760_length_1881_cov_158.22'&EDGE_21586_length_111_cov_26.3214'&EDGE_21585_length_139_cov_39.0119&EDGE_4755_length_65_cov_152.6&EDGE_10361_length_87_cov_36.0312'&EDGE_10359_length_121_cov_16.9242&EDGE_888_length_56_cov_157'&EDGE_16144_length_88_cov_126.818'&EDGE_16145_length_78_cov_2.91304&EDGE_8250_length_131_cov_3.38158&EDGE_12960_length_66_cov_125.273&EDGE_17217_length_88_cov_113.848&EDGE_3342_length_468_cov_160.329'&EDGE_20437_length_111_cov_138.107'&EDGE_20438_length_260_cov_175.283&EDGE_12586_length_63_cov_155.625&EDGE_10141_length_265_cov_139.348'&EDGE_10140_length_400_cov_191.504\": (2610L, 4953L), 'EDGE_21773_length_13467_cov_5.61281': (2707L, 4984L)}\n"
     ]
    }
   ],
   "source": [
    "k=newCDS2.keys()[0]\n",
    "print k, newCDS2[k]"
   ]
  },
  {
   "cell_type": "code",
   "execution_count": 186,
   "metadata": {},
   "outputs": [],
   "source": [
    "newCDS3 = {}\n",
    "for k in newCDS2:\n",
    "    newCDS3[k]=[]\n",
    "    for q in newCDS2[k]:\n",
    "        newCDS3[k].append(isbranch(q,newCDS2[k][q],DM2L_graph))"
   ]
  },
  {
   "cell_type": "code",
   "execution_count": 191,
   "metadata": {},
   "outputs": [
    {
     "name": "stdout",
     "output_type": "stream",
     "text": [
      "-20\n"
     ]
    }
   ],
   "source": [
    "count = 0\n",
    "for k in newCDS3:\n",
    "    if False in newCDS3[k]:\n",
    "        count = count+1\n",
    "print count-len(newCDS3)"
   ]
  },
  {
   "cell_type": "code",
   "execution_count": 182,
   "metadata": {},
   "outputs": [
    {
     "data": {
      "text/plain": [
       "{\"EDGE_11588_length_117_cov_2.70968'&EDGE_8907_length_34643_cov_5.4725'\": (2700L,\n",
       "  4977L),\n",
       " \"EDGE_17198_length_72_cov_26.9412'&EDGE_2021_length_56_cov_80'&EDGE_4531_length_93_cov_130.079'&EDGE_22313_length_161_cov_145.123'&EDGE_6724_length_206_cov_148.536'&EDGE_23850_length_232_cov_39.1073'&EDGE_4760_length_1881_cov_158.22'&EDGE_21586_length_111_cov_26.3214'&EDGE_21585_length_139_cov_39.0119&EDGE_4755_length_65_cov_152.6&EDGE_10361_length_87_cov_36.0312'&EDGE_10359_length_121_cov_16.9242&EDGE_888_length_56_cov_157'&EDGE_16144_length_88_cov_126.818'&EDGE_16145_length_78_cov_2.91304&EDGE_8250_length_131_cov_3.38158&EDGE_12960_length_66_cov_125.273&EDGE_17217_length_88_cov_113.848&EDGE_3342_length_468_cov_160.329'&EDGE_20437_length_111_cov_138.107'&EDGE_20438_length_260_cov_175.283&EDGE_12586_length_63_cov_155.625&EDGE_10141_length_265_cov_139.348'&EDGE_10140_length_400_cov_191.504\": (2610L,\n",
       "  4953L),\n",
       " 'EDGE_21773_length_13467_cov_5.61281': (2707L, 4984L)}"
      ]
     },
     "execution_count": 182,
     "metadata": {},
     "output_type": "execute_result"
    }
   ],
   "source": [
    "newCDS2.values()[0]"
   ]
  },
  {
   "cell_type": "code",
   "execution_count": 165,
   "metadata": {},
   "outputs": [],
   "source": [
    "L = []\n",
    "for t in extractgenestartend(df1,\"\").keys():\n",
    "    L.append(set(DM2L_graph_tracks_names[t].split('&')))"
   ]
  },
  {
   "cell_type": "code",
   "execution_count": 172,
   "metadata": {},
   "outputs": [
    {
     "name": "stdout",
     "output_type": "stream",
     "text": [
      "set([])\n",
      "set([])\n",
      "set([])\n",
      "set([])\n"
     ]
    }
   ],
   "source": [
    "for i in range(0,4):\n",
    "    print L[i].intersection(L[i+1])"
   ]
  },
  {
   "cell_type": "code",
   "execution_count": 111,
   "metadata": {},
   "outputs": [
    {
     "name": "stdout",
     "output_type": "stream",
     "text": [
      "49 RecName: Full=Centaurin-gamma-1A\n"
     ]
    }
   ],
   "source": [
    "NewTracks = origgtf(prot_tracks,prot_contigs,prot_ref,loadgtf(PATH+NAME+'graph_tracks.gtf'),DM2L_graph_tracksCDS_names)))"
   ]
  },
  {
   "cell_type": "code",
   "execution_count": 150,
   "metadata": {},
   "outputs": [
    {
     "data": {
      "text/html": [
       "<div>\n",
       "<style scoped>\n",
       "    .dataframe tbody tr th:only-of-type {\n",
       "        vertical-align: middle;\n",
       "    }\n",
       "\n",
       "    .dataframe tbody tr th {\n",
       "        vertical-align: top;\n",
       "    }\n",
       "\n",
       "    .dataframe thead th {\n",
       "        text-align: right;\n",
       "    }\n",
       "</style>\n",
       "<table border=\"1\" class=\"dataframe\">\n",
       "  <thead>\n",
       "    <tr style=\"text-align: right;\">\n",
       "      <th></th>\n",
       "      <th>name</th>\n",
       "      <th>source</th>\n",
       "      <th>type</th>\n",
       "      <th>start</th>\n",
       "      <th>end</th>\n",
       "      <th>p1</th>\n",
       "      <th>strand</th>\n",
       "      <th>p2</th>\n",
       "      <th>genes</th>\n",
       "    </tr>\n",
       "  </thead>\n",
       "  <tbody>\n",
       "    <tr>\n",
       "      <th>2212</th>\n",
       "      <td>graph_tracks18818</td>\n",
       "      <td>GeneMark.hmm</td>\n",
       "      <td>CDS</td>\n",
       "      <td>2610</td>\n",
       "      <td>2751</td>\n",
       "      <td>.</td>\n",
       "      <td>+</td>\n",
       "      <td>0</td>\n",
       "      <td>gene_id \"313_g\"; transcript_id \"313_t\";</td>\n",
       "    </tr>\n",
       "    <tr>\n",
       "      <th>2214</th>\n",
       "      <td>graph_tracks18818</td>\n",
       "      <td>GeneMark.hmm</td>\n",
       "      <td>CDS</td>\n",
       "      <td>2845</td>\n",
       "      <td>2979</td>\n",
       "      <td>.</td>\n",
       "      <td>+</td>\n",
       "      <td>2</td>\n",
       "      <td>gene_id \"313_g\"; transcript_id \"313_t\";</td>\n",
       "    </tr>\n",
       "    <tr>\n",
       "      <th>2216</th>\n",
       "      <td>graph_tracks18818</td>\n",
       "      <td>GeneMark.hmm</td>\n",
       "      <td>CDS</td>\n",
       "      <td>3047</td>\n",
       "      <td>4330</td>\n",
       "      <td>.</td>\n",
       "      <td>+</td>\n",
       "      <td>2</td>\n",
       "      <td>gene_id \"313_g\"; transcript_id \"313_t\";</td>\n",
       "    </tr>\n",
       "    <tr>\n",
       "      <th>2218</th>\n",
       "      <td>graph_tracks18818</td>\n",
       "      <td>GeneMark.hmm</td>\n",
       "      <td>CDS</td>\n",
       "      <td>4397</td>\n",
       "      <td>4514</td>\n",
       "      <td>.</td>\n",
       "      <td>+</td>\n",
       "      <td>2</td>\n",
       "      <td>gene_id \"313_g\"; transcript_id \"313_t\";</td>\n",
       "    </tr>\n",
       "    <tr>\n",
       "      <th>2220</th>\n",
       "      <td>graph_tracks18818</td>\n",
       "      <td>GeneMark.hmm</td>\n",
       "      <td>CDS</td>\n",
       "      <td>4578</td>\n",
       "      <td>4953</td>\n",
       "      <td>.</td>\n",
       "      <td>+</td>\n",
       "      <td>1</td>\n",
       "      <td>gene_id \"313_g\"; transcript_id \"313_t\";</td>\n",
       "    </tr>\n",
       "    <tr>\n",
       "      <th>66153</th>\n",
       "      <td>graph_tracks8613</td>\n",
       "      <td>GeneMark.hmm</td>\n",
       "      <td>CDS</td>\n",
       "      <td>2700</td>\n",
       "      <td>2841</td>\n",
       "      <td>.</td>\n",
       "      <td>+</td>\n",
       "      <td>0</td>\n",
       "      <td>gene_id \"9526_g\"; transcript_id \"9526_t\";</td>\n",
       "    </tr>\n",
       "    <tr>\n",
       "      <th>66155</th>\n",
       "      <td>graph_tracks8613</td>\n",
       "      <td>GeneMark.hmm</td>\n",
       "      <td>CDS</td>\n",
       "      <td>2935</td>\n",
       "      <td>3069</td>\n",
       "      <td>.</td>\n",
       "      <td>+</td>\n",
       "      <td>2</td>\n",
       "      <td>gene_id \"9526_g\"; transcript_id \"9526_t\";</td>\n",
       "    </tr>\n",
       "    <tr>\n",
       "      <th>66157</th>\n",
       "      <td>graph_tracks8613</td>\n",
       "      <td>GeneMark.hmm</td>\n",
       "      <td>CDS</td>\n",
       "      <td>3137</td>\n",
       "      <td>4420</td>\n",
       "      <td>.</td>\n",
       "      <td>+</td>\n",
       "      <td>2</td>\n",
       "      <td>gene_id \"9526_g\"; transcript_id \"9526_t\";</td>\n",
       "    </tr>\n",
       "    <tr>\n",
       "      <th>66159</th>\n",
       "      <td>graph_tracks8613</td>\n",
       "      <td>GeneMark.hmm</td>\n",
       "      <td>CDS</td>\n",
       "      <td>4487</td>\n",
       "      <td>4604</td>\n",
       "      <td>.</td>\n",
       "      <td>+</td>\n",
       "      <td>2</td>\n",
       "      <td>gene_id \"9526_g\"; transcript_id \"9526_t\";</td>\n",
       "    </tr>\n",
       "    <tr>\n",
       "      <th>66161</th>\n",
       "      <td>graph_tracks8613</td>\n",
       "      <td>GeneMark.hmm</td>\n",
       "      <td>CDS</td>\n",
       "      <td>4668</td>\n",
       "      <td>4977</td>\n",
       "      <td>.</td>\n",
       "      <td>+</td>\n",
       "      <td>1</td>\n",
       "      <td>gene_id \"9526_g\"; transcript_id \"9526_t\";</td>\n",
       "    </tr>\n",
       "    <tr>\n",
       "      <th>80205</th>\n",
       "      <td>graph_tracks12519</td>\n",
       "      <td>GeneMark.hmm</td>\n",
       "      <td>CDS</td>\n",
       "      <td>2707</td>\n",
       "      <td>2848</td>\n",
       "      <td>.</td>\n",
       "      <td>+</td>\n",
       "      <td>0</td>\n",
       "      <td>gene_id \"11554_g\"; transcript_id \"11554_t\";</td>\n",
       "    </tr>\n",
       "    <tr>\n",
       "      <th>80207</th>\n",
       "      <td>graph_tracks12519</td>\n",
       "      <td>GeneMark.hmm</td>\n",
       "      <td>CDS</td>\n",
       "      <td>2942</td>\n",
       "      <td>3076</td>\n",
       "      <td>.</td>\n",
       "      <td>+</td>\n",
       "      <td>2</td>\n",
       "      <td>gene_id \"11554_g\"; transcript_id \"11554_t\";</td>\n",
       "    </tr>\n",
       "    <tr>\n",
       "      <th>80209</th>\n",
       "      <td>graph_tracks12519</td>\n",
       "      <td>GeneMark.hmm</td>\n",
       "      <td>CDS</td>\n",
       "      <td>3144</td>\n",
       "      <td>4427</td>\n",
       "      <td>.</td>\n",
       "      <td>+</td>\n",
       "      <td>2</td>\n",
       "      <td>gene_id \"11554_g\"; transcript_id \"11554_t\";</td>\n",
       "    </tr>\n",
       "    <tr>\n",
       "      <th>80211</th>\n",
       "      <td>graph_tracks12519</td>\n",
       "      <td>GeneMark.hmm</td>\n",
       "      <td>CDS</td>\n",
       "      <td>4494</td>\n",
       "      <td>4611</td>\n",
       "      <td>.</td>\n",
       "      <td>+</td>\n",
       "      <td>2</td>\n",
       "      <td>gene_id \"11554_g\"; transcript_id \"11554_t\";</td>\n",
       "    </tr>\n",
       "    <tr>\n",
       "      <th>80213</th>\n",
       "      <td>graph_tracks12519</td>\n",
       "      <td>GeneMark.hmm</td>\n",
       "      <td>CDS</td>\n",
       "      <td>4675</td>\n",
       "      <td>4984</td>\n",
       "      <td>.</td>\n",
       "      <td>+</td>\n",
       "      <td>1</td>\n",
       "      <td>gene_id \"11554_g\"; transcript_id \"11554_t\";</td>\n",
       "    </tr>\n",
       "  </tbody>\n",
       "</table>\n",
       "</div>"
      ],
      "text/plain": [
       "                    name        source type  start   end p1 strand p2  \\\n",
       "2212   graph_tracks18818  GeneMark.hmm  CDS   2610  2751  .      +  0   \n",
       "2214   graph_tracks18818  GeneMark.hmm  CDS   2845  2979  .      +  2   \n",
       "2216   graph_tracks18818  GeneMark.hmm  CDS   3047  4330  .      +  2   \n",
       "2218   graph_tracks18818  GeneMark.hmm  CDS   4397  4514  .      +  2   \n",
       "2220   graph_tracks18818  GeneMark.hmm  CDS   4578  4953  .      +  1   \n",
       "66153   graph_tracks8613  GeneMark.hmm  CDS   2700  2841  .      +  0   \n",
       "66155   graph_tracks8613  GeneMark.hmm  CDS   2935  3069  .      +  2   \n",
       "66157   graph_tracks8613  GeneMark.hmm  CDS   3137  4420  .      +  2   \n",
       "66159   graph_tracks8613  GeneMark.hmm  CDS   4487  4604  .      +  2   \n",
       "66161   graph_tracks8613  GeneMark.hmm  CDS   4668  4977  .      +  1   \n",
       "80205  graph_tracks12519  GeneMark.hmm  CDS   2707  2848  .      +  0   \n",
       "80207  graph_tracks12519  GeneMark.hmm  CDS   2942  3076  .      +  2   \n",
       "80209  graph_tracks12519  GeneMark.hmm  CDS   3144  4427  .      +  2   \n",
       "80211  graph_tracks12519  GeneMark.hmm  CDS   4494  4611  .      +  2   \n",
       "80213  graph_tracks12519  GeneMark.hmm  CDS   4675  4984  .      +  1   \n",
       "\n",
       "                                             genes  \n",
       "2212       gene_id \"313_g\"; transcript_id \"313_t\";  \n",
       "2214       gene_id \"313_g\"; transcript_id \"313_t\";  \n",
       "2216       gene_id \"313_g\"; transcript_id \"313_t\";  \n",
       "2218       gene_id \"313_g\"; transcript_id \"313_t\";  \n",
       "2220       gene_id \"313_g\"; transcript_id \"313_t\";  \n",
       "66153    gene_id \"9526_g\"; transcript_id \"9526_t\";  \n",
       "66155    gene_id \"9526_g\"; transcript_id \"9526_t\";  \n",
       "66157    gene_id \"9526_g\"; transcript_id \"9526_t\";  \n",
       "66159    gene_id \"9526_g\"; transcript_id \"9526_t\";  \n",
       "66161    gene_id \"9526_g\"; transcript_id \"9526_t\";  \n",
       "80205  gene_id \"11554_g\"; transcript_id \"11554_t\";  \n",
       "80207  gene_id \"11554_g\"; transcript_id \"11554_t\";  \n",
       "80209  gene_id \"11554_g\"; transcript_id \"11554_t\";  \n",
       "80211  gene_id \"11554_g\"; transcript_id \"11554_t\";  \n",
       "80213  gene_id \"11554_g\"; transcript_id \"11554_t\";  "
      ]
     },
     "execution_count": 150,
     "metadata": {},
     "output_type": "execute_result"
    }
   ],
   "source": [
    "gettranscr(newCDS[k], DM2L_graph_tracksCDS_names, NewTracksGtf)"
   ]
  },
  {
   "cell_type": "code",
   "execution_count": 72,
   "metadata": {},
   "outputs": [],
   "source": [
    "k = DM2L_graph_tracksCDS_names.keys()[0]\n",
    "print k, DM2L_graph_tracksCDS_names[k]"
   ]
  },
  {
   "cell_type": "code",
   "execution_count": 72,
   "metadata": {},
   "outputs": [
    {
     "name": "stdout",
     "output_type": "stream",
     "text": [
      "graph_tracksCDS10926 gene_id \"11318_g\"; transcript_id \"11318_t\";\n"
     ]
    }
   ],
   "source": []
  },
  {
   "cell_type": "code",
   "execution_count": 74,
   "metadata": {},
   "outputs": [],
   "source": [
    "T = gettranscr(NewTracks, DM2L_graph_tracksCDS_names, NewTracksGtf)"
   ]
  },
  {
   "cell_type": "code",
   "execution_count": 75,
   "metadata": {},
   "outputs": [],
   "source": [
    "T2 = extractgenestartend(T,\"\")\n",
    "print len(T2), T2.keys()[2], T2[T2.keys()[2]]"
   ]
  },
  {
   "cell_type": "code",
   "execution_count": 123,
   "metadata": {},
   "outputs": [
    {
     "data": {
      "text/html": [
       "<div>\n",
       "<style scoped>\n",
       "    .dataframe tbody tr th:only-of-type {\n",
       "        vertical-align: middle;\n",
       "    }\n",
       "\n",
       "    .dataframe tbody tr th {\n",
       "        vertical-align: top;\n",
       "    }\n",
       "\n",
       "    .dataframe thead th {\n",
       "        text-align: right;\n",
       "    }\n",
       "</style>\n",
       "<table border=\"1\" class=\"dataframe\">\n",
       "  <thead>\n",
       "    <tr style=\"text-align: right;\">\n",
       "      <th></th>\n",
       "      <th>name</th>\n",
       "      <th>source</th>\n",
       "      <th>type</th>\n",
       "      <th>start</th>\n",
       "      <th>end</th>\n",
       "      <th>p1</th>\n",
       "      <th>strand</th>\n",
       "      <th>p2</th>\n",
       "      <th>genes</th>\n",
       "    </tr>\n",
       "  </thead>\n",
       "  <tbody>\n",
       "    <tr>\n",
       "      <th>25</th>\n",
       "      <td>graph_tracks1683</td>\n",
       "      <td>GeneMark.hmm</td>\n",
       "      <td>stop_codon</td>\n",
       "      <td>2949</td>\n",
       "      <td>2951</td>\n",
       "      <td>.</td>\n",
       "      <td>-</td>\n",
       "      <td>0</td>\n",
       "      <td>gene_id \"6_g\"; transcript_id \"6_t\";</td>\n",
       "    </tr>\n",
       "    <tr>\n",
       "      <th>26</th>\n",
       "      <td>graph_tracks1683</td>\n",
       "      <td>GeneMark.hmm</td>\n",
       "      <td>CDS</td>\n",
       "      <td>2949</td>\n",
       "      <td>3717</td>\n",
       "      <td>.</td>\n",
       "      <td>-</td>\n",
       "      <td>1</td>\n",
       "      <td>gene_id \"6_g\"; transcript_id \"6_t\";</td>\n",
       "    </tr>\n",
       "    <tr>\n",
       "      <th>28</th>\n",
       "      <td>graph_tracks1683</td>\n",
       "      <td>GeneMark.hmm</td>\n",
       "      <td>CDS</td>\n",
       "      <td>3773</td>\n",
       "      <td>3965</td>\n",
       "      <td>.</td>\n",
       "      <td>-</td>\n",
       "      <td>2</td>\n",
       "      <td>gene_id \"6_g\"; transcript_id \"6_t\";</td>\n",
       "    </tr>\n",
       "    <tr>\n",
       "      <th>30</th>\n",
       "      <td>graph_tracks1683</td>\n",
       "      <td>GeneMark.hmm</td>\n",
       "      <td>CDS</td>\n",
       "      <td>4024</td>\n",
       "      <td>4119</td>\n",
       "      <td>.</td>\n",
       "      <td>-</td>\n",
       "      <td>2</td>\n",
       "      <td>gene_id \"6_g\"; transcript_id \"6_t\";</td>\n",
       "    </tr>\n",
       "    <tr>\n",
       "      <th>340</th>\n",
       "      <td>graph_tracks26333</td>\n",
       "      <td>GeneMark.hmm</td>\n",
       "      <td>stop_codon</td>\n",
       "      <td>1111</td>\n",
       "      <td>1113</td>\n",
       "      <td>.</td>\n",
       "      <td>-</td>\n",
       "      <td>0</td>\n",
       "      <td>gene_id \"46_g\"; transcript_id \"46_t\";</td>\n",
       "    </tr>\n",
       "    <tr>\n",
       "      <th>341</th>\n",
       "      <td>graph_tracks26333</td>\n",
       "      <td>GeneMark.hmm</td>\n",
       "      <td>CDS</td>\n",
       "      <td>1111</td>\n",
       "      <td>1410</td>\n",
       "      <td>.</td>\n",
       "      <td>-</td>\n",
       "      <td>0</td>\n",
       "      <td>gene_id \"46_g\"; transcript_id \"46_t\";</td>\n",
       "    </tr>\n",
       "    <tr>\n",
       "      <th>343</th>\n",
       "      <td>graph_tracks26333</td>\n",
       "      <td>GeneMark.hmm</td>\n",
       "      <td>CDS</td>\n",
       "      <td>1472</td>\n",
       "      <td>1576</td>\n",
       "      <td>.</td>\n",
       "      <td>-</td>\n",
       "      <td>0</td>\n",
       "      <td>gene_id \"46_g\"; transcript_id \"46_t\";</td>\n",
       "    </tr>\n",
       "    <tr>\n",
       "      <th>344</th>\n",
       "      <td>graph_tracks26333</td>\n",
       "      <td>GeneMark.hmm</td>\n",
       "      <td>start_codon</td>\n",
       "      <td>1574</td>\n",
       "      <td>1576</td>\n",
       "      <td>.</td>\n",
       "      <td>-</td>\n",
       "      <td>0</td>\n",
       "      <td>gene_id \"46_g\"; transcript_id \"46_t\";</td>\n",
       "    </tr>\n",
       "    <tr>\n",
       "      <th>350</th>\n",
       "      <td>graph_tracks26333</td>\n",
       "      <td>GeneMark.hmm</td>\n",
       "      <td>start_codon</td>\n",
       "      <td>4572</td>\n",
       "      <td>4574</td>\n",
       "      <td>.</td>\n",
       "      <td>+</td>\n",
       "      <td>0</td>\n",
       "      <td>gene_id \"48_g\"; transcript_id \"48_t\";</td>\n",
       "    </tr>\n",
       "  </tbody>\n",
       "</table>\n",
       "</div>"
      ],
      "text/plain": [
       "                  name        source         type  start   end p1 strand p2  \\\n",
       "25    graph_tracks1683  GeneMark.hmm   stop_codon   2949  2951  .      -  0   \n",
       "26    graph_tracks1683  GeneMark.hmm          CDS   2949  3717  .      -  1   \n",
       "28    graph_tracks1683  GeneMark.hmm          CDS   3773  3965  .      -  2   \n",
       "30    graph_tracks1683  GeneMark.hmm          CDS   4024  4119  .      -  2   \n",
       "340  graph_tracks26333  GeneMark.hmm   stop_codon   1111  1113  .      -  0   \n",
       "341  graph_tracks26333  GeneMark.hmm          CDS   1111  1410  .      -  0   \n",
       "343  graph_tracks26333  GeneMark.hmm          CDS   1472  1576  .      -  0   \n",
       "344  graph_tracks26333  GeneMark.hmm  start_codon   1574  1576  .      -  0   \n",
       "350  graph_tracks26333  GeneMark.hmm  start_codon   4572  4574  .      +  0   \n",
       "\n",
       "                                     genes  \n",
       "25     gene_id \"6_g\"; transcript_id \"6_t\";  \n",
       "26     gene_id \"6_g\"; transcript_id \"6_t\";  \n",
       "28     gene_id \"6_g\"; transcript_id \"6_t\";  \n",
       "30     gene_id \"6_g\"; transcript_id \"6_t\";  \n",
       "340  gene_id \"46_g\"; transcript_id \"46_t\";  \n",
       "341  gene_id \"46_g\"; transcript_id \"46_t\";  \n",
       "343  gene_id \"46_g\"; transcript_id \"46_t\";  \n",
       "344  gene_id \"46_g\"; transcript_id \"46_t\";  \n",
       "350  gene_id \"48_g\"; transcript_id \"48_t\";  "
      ]
     },
     "execution_count": 123,
     "metadata": {},
     "output_type": "execute_result"
    }
   ],
   "source": [
    "T.head(9)"
   ]
  },
  {
   "cell_type": "code",
   "execution_count": 76,
   "metadata": {},
   "outputs": [
    {
     "data": {
      "text/plain": [
       "\"EDGE_16622_length_111_cov_6.44643&EDGE_3009_length_23686_cov_8.0289'\""
      ]
     },
     "execution_count": 76,
     "metadata": {},
     "output_type": "execute_result"
    }
   ],
   "source": [
    "DM2L_graph_tracks_names['graph_tracks25504']"
   ]
  },
  {
   "cell_type": "code",
   "execution_count": 77,
   "metadata": {},
   "outputs": [
    {
     "data": {
      "text/plain": [
       "[0, 126, 12103]"
      ]
     },
     "execution_count": 77,
     "metadata": {},
     "output_type": "execute_result"
    }
   ],
   "source": [
    "branchparser(\"EDGE_18186_length_126_cov_5.78873'&EDGE_18185_length_11977_cov_7.19334\", DM2L_graph)"
   ]
  },
  {
   "cell_type": "code",
   "execution_count": 78,
   "metadata": {},
   "outputs": [],
   "source": [
    "K = extractgenestartend(NewTracksGtf,\"\")"
   ]
  },
  {
   "cell_type": "code",
   "execution_count": 127,
   "metadata": {},
   "outputs": [],
   "source": [
    "c = 0\n",
    "res = []\n",
    "for k in T2:\n",
    "    qname = DM2L_graph_tracks_names[k]\n",
    "    a = branchparser(qname,DM2L_graph)\n",
    "    for tmp1 in a:\n",
    "        if (tmp1<T2[k][1]) and (tmp1>T2[k][0]):\n",
    "            if (qname,T2[k], a) not in res:\n",
    "                res.append((qname,T2[k], a))"
   ]
  },
  {
   "cell_type": "code",
   "execution_count": 131,
   "metadata": {},
   "outputs": [
    {
     "name": "stdout",
     "output_type": "stream",
     "text": [
      "1\n",
      "1\n",
      "2\n",
      "1\n",
      "1\n",
      "2\n",
      "2\n",
      "2\n",
      "1\n",
      "1\n",
      "1\n",
      "2\n",
      "1\n",
      "1\n",
      "2\n",
      "1\n",
      "1\n",
      "1\n",
      "1\n",
      "1\n",
      "1\n",
      "2\n",
      "2\n",
      "1\n",
      "1\n",
      "1\n",
      "2\n",
      "1\n",
      "2\n",
      "1\n",
      "1\n",
      "2\n",
      "1\n",
      "1\n",
      "1\n",
      "1\n",
      "2\n",
      "1\n",
      "1\n",
      "1\n",
      "1\n",
      "1\n",
      "1\n",
      "2\n",
      "1\n",
      "1\n",
      "1\n",
      "2\n",
      "1\n",
      "1\n",
      "2\n",
      "1\n",
      "2\n",
      "1\n",
      "1\n",
      "1\n",
      "2\n",
      "1\n",
      "1\n",
      "1\n",
      "2\n",
      "1\n",
      "1\n",
      "2\n",
      "1\n",
      "2\n",
      "1\n",
      "1\n",
      "1\n"
     ]
    }
   ],
   "source": [
    "for k in res[0][0].split('&'):\n",
    "    print len(DM2L_graph.D_edges[k])"
   ]
  },
  {
   "cell_type": "code",
   "execution_count": 44,
   "metadata": {},
   "outputs": [
    {
     "ename": "NameError",
     "evalue": "name 'K' is not defined",
     "output_type": "error",
     "traceback": [
      "\u001b[1;31m\u001b[0m",
      "\u001b[1;31mNameError\u001b[0mTraceback (most recent call last)",
      "\u001b[1;32m<ipython-input-44-5c01a4faef9f>\u001b[0m in \u001b[0;36m<module>\u001b[1;34m()\u001b[0m\n\u001b[1;32m----> 1\u001b[1;33m \u001b[0mq\u001b[0m \u001b[1;33m=\u001b[0m \u001b[0mK\u001b[0m\u001b[1;33m.\u001b[0m\u001b[0mkeys\u001b[0m\u001b[1;33m(\u001b[0m\u001b[1;33m)\u001b[0m\u001b[1;33m[\u001b[0m\u001b[1;36m0\u001b[0m\u001b[1;33m]\u001b[0m\u001b[1;33m\u001b[0m\u001b[0m\n\u001b[0m\u001b[0;32m      2\u001b[0m \u001b[1;32mprint\u001b[0m \u001b[0mgetrange\u001b[0m\u001b[1;33m(\u001b[0m\u001b[0mK\u001b[0m\u001b[1;33m[\u001b[0m\u001b[0mq\u001b[0m\u001b[1;33m]\u001b[0m\u001b[1;33m)\u001b[0m\u001b[1;33m\u001b[0m\u001b[0m\n\u001b[0;32m      3\u001b[0m \u001b[1;32mprint\u001b[0m \u001b[0mDM2L_graph_tracks_names\u001b[0m\u001b[1;33m[\u001b[0m\u001b[0mq\u001b[0m\u001b[1;33m]\u001b[0m\u001b[1;33m\u001b[0m\u001b[0m\n",
      "\u001b[1;31mNameError\u001b[0m: name 'K' is not defined"
     ]
    }
   ],
   "source": [
    "q = K.keys()[0]\n",
    "print getrange(K[q])\n",
    "print DM2L_graph_tracks_names[q]"
   ]
  },
  {
   "cell_type": "code",
   "execution_count": 250,
   "metadata": {},
   "outputs": [
    {
     "name": "stdout",
     "output_type": "stream",
     "text": [
      "420802\n"
     ]
    },
    {
     "data": {
      "text/plain": [
       "18212"
      ]
     },
     "execution_count": 250,
     "metadata": {},
     "output_type": "execute_result"
    }
   ],
   "source": [
    "len(loadfasta(PATH+NAME+'contigs.fasta'))"
   ]
  },
  {
   "cell_type": "code",
   "execution_count": 101,
   "metadata": {},
   "outputs": [],
   "source": [
    "NewTracksEdges = []\n",
    "for t in NewTracks:\n",
    "    for k in DM2L_graph_tracks_names[t].split('&'):\n",
    "        NewTracksEdges.append(k)"
   ]
  },
  {
   "cell_type": "code",
   "execution_count": 102,
   "metadata": {},
   "outputs": [
    {
     "data": {
      "image/png": "[encoded data removed]",
      "text/plain": [
       "<Figure size 432x288 with 1 Axes>"
      ]
     },
     "metadata": {
      "needs_background": "light"
     },
     "output_type": "display_data"
    }
   ],
   "source": [
    "fig = plt.figure()\n",
    "H = [len(DM2L_graph.D_str[k]) for k in NewTracksEdges]\n",
    "a =plt.hist(H,bins = len(H)/5)\n",
    "fig.savefig(\"LengthNewTracks.png\")"
   ]
  },
  {
   "cell_type": "code",
   "execution_count": 103,
   "metadata": {},
   "outputs": [
    {
     "data": {
      "image/png": "[encoded data removed]",
      "text/plain": [
       "<Figure size 432x288 with 1 Axes>"
      ]
     },
     "metadata": {
      "needs_background": "light"
     },
     "output_type": "display_data"
    }
   ],
   "source": [
    "fig = plt.figure()\n",
    "examp = [DM2L_graph.D_str[k] for k in NewTracksEdges]\n",
    "subjs = [getfeautures(r) for r in examp]\n",
    "answs = [getrate(clf,s) for s in examp]\n",
    "a = plt.hist(answs, bins = len(answs)/5)\n",
    "fig.savefig(\"ClfNewTracks.png\")"
   ]
  },
  {
   "cell_type": "code",
   "execution_count": 104,
   "metadata": {},
   "outputs": [
    {
     "data": {
      "image/png": "[encoded data removed]",
      "text/plain": [
       "<Figure size 432x288 with 1 Axes>"
      ]
     },
     "metadata": {
      "needs_background": "light"
     },
     "output_type": "display_data"
    }
   ],
   "source": [
    "fig = plt.figure()\n",
    "H = [len(DM2L_graph.D_edges[k]) for k in NewTracksEdges]\n",
    "a =plt.hist(H,bins = len(H)/5)\n",
    "fig.savefig(\"EdgesNewTracks.png\")"
   ]
  },
  {
   "cell_type": "code",
   "execution_count": 158,
   "metadata": {},
   "outputs": [
    {
     "name": "stdout",
     "output_type": "stream",
     "text": [
      "54126\n"
     ]
    },
    {
     "data": {
      "image/png": "[encoded data removed]",
      "text/plain": [
       "<Figure size 432x288 with 1 Axes>"
      ]
     },
     "metadata": {
      "needs_background": "light"
     },
     "output_type": "display_data"
    }
   ],
   "source": [
    "f = loadfasta(PATH+\"DM2L_graph_tracks.fa\")\n",
    "r = []\n",
    "for k in NewTracks:\n",
    "    r.append(getrate(clf,f[k]))\n",
    "fig = plt.figure()\n",
    "a =plt.hist(r,bins = len(r)/5)\n",
    "fig.savefig(\"ClfTotalTracks.png\")"
   ]
  },
  {
   "cell_type": "code",
   "execution_count": 113,
   "metadata": {},
   "outputs": [
    {
     "data": {
      "image/png": "[encoded data removed]",
      "text/plain": [
       "<Figure size 432x288 with 1 Axes>"
      ]
     },
     "metadata": {
      "needs_background": "light"
     },
     "output_type": "display_data"
    }
   ],
   "source": [
    "r = [getrate(clf,s) for s in f.values()]\n",
    "fig = plt.figure()\n",
    "a =plt.hist(r,20)\n",
    "fig.savefig(\"ClfAllOfTracks.png\")"
   ]
  },
  {
   "cell_type": "code",
   "execution_count": 114,
   "metadata": {},
   "outputs": [
    {
     "data": {
      "text/plain": [
       "27063"
      ]
     },
     "execution_count": 114,
     "metadata": {},
     "output_type": "execute_result"
    }
   ],
   "source": [
    "len(r)"
   ]
  },
  {
   "cell_type": "code",
   "execution_count": 115,
   "metadata": {},
   "outputs": [
    {
     "data": {
      "image/png": "[encoded data removed]",
      "text/plain": [
       "<Figure size 432x288 with 1 Axes>"
      ]
     },
     "metadata": {
      "needs_background": "light"
     },
     "output_type": "display_data"
    }
   ],
   "source": [
    "r = [getrate(clf,s) for s in DM2L_graph.D_str.values()]\n",
    "fig = plt.figure()\n",
    "\n",
    "fig.savefig(\"ClfAllOfGraph.png\")"
   ]
  },
  {
   "cell_type": "code",
   "execution_count": 116,
   "metadata": {},
   "outputs": [
    {
     "data": {
      "image/png": "[encoded data removed]",
      "text/plain": [
       "<Figure size 432x288 with 1 Axes>"
      ]
     },
     "metadata": {
      "needs_background": "light"
     },
     "output_type": "display_data"
    }
   ],
   "source": [
    "a =plt.hist(r,50)"
   ]
  },
  {
   "cell_type": "code",
   "execution_count": 168,
   "metadata": {},
   "outputs": [],
   "source": [
    "r = []\n",
    "r2 = []\n",
    "for node in NewTracksEdges:\n",
    "   # print node\n",
    "    edges = DM2L_graph.D_edges[node]\n",
    "    if len(edges)==1:\n",
    "        t = [getrate(clf,DM2L_graph.D_str[k]) for k in edges]\n",
    "        v = np.var(t)\n",
    "        if not math.isnan(v):\n",
    "             r.append(v)\n",
    "    elif len(edges)>1:\n",
    "        t = [getrate(clf,DM2L_graph.D_str[k]) for k in edges]\n",
    "        v = np.var(t)\n",
    "        if not math.isnan(v):\n",
    "             r2.append(t)"
   ]
  },
  {
   "cell_type": "code",
   "execution_count": 157,
   "metadata": {},
   "outputs": [
    {
     "data": {
      "image/png": "[encoded data removed]",
      "text/plain": [
       "<Figure size 432x288 with 1 Axes>"
      ]
     },
     "metadata": {
      "needs_background": "light"
     },
     "output_type": "display_data"
    }
   ],
   "source": [
    "a =plt.hist(r,bins = len(r)/5)"
   ]
  },
  {
   "cell_type": "code",
   "execution_count": 159,
   "metadata": {},
   "outputs": [
    {
     "data": {
      "text/plain": [
       "96"
      ]
     },
     "execution_count": 159,
     "metadata": {},
     "output_type": "execute_result"
    }
   ],
   "source": [
    "len(r)"
   ]
  },
  {
   "cell_type": "code",
   "execution_count": 161,
   "metadata": {},
   "outputs": [
    {
     "data": {
      "text/plain": [
       "104"
      ]
     },
     "execution_count": 161,
     "metadata": {},
     "output_type": "execute_result"
    }
   ],
   "source": [
    "len(r)"
   ]
  },
  {
   "cell_type": "code",
   "execution_count": 170,
   "metadata": {},
   "outputs": [
    {
     "name": "stdout",
     "output_type": "stream",
     "text": [
      "18\n"
     ]
    }
   ],
   "source": [
    "c = 0\n",
    "for k in r2:\n",
    "    if np.var(k)>0:\n",
    "        c= c+1\n",
    "print c"
   ]
  },
  {
   "cell_type": "code",
   "execution_count": 164,
   "metadata": {},
   "outputs": [
    {
     "data": {
      "text/plain": [
       "108"
      ]
     },
     "execution_count": 164,
     "metadata": {},
     "output_type": "execute_result"
    }
   ],
   "source": [
    "len(r2)"
   ]
  },
  {
   "cell_type": "code",
   "execution_count": 171,
   "metadata": {},
   "outputs": [
    {
     "data": {
      "text/plain": [
       "[[0.0, 0.0],\n",
       " [0.0, 0.0],\n",
       " [0.0, 0.0],\n",
       " [0.18181818181818182, 0.0],\n",
       " [0.0, 0.0],\n",
       " [0.5, 0.5],\n",
       " [0.0, 0.0],\n",
       " [0.5, 0.5],\n",
       " [0.0, 0.0],\n",
       " [0.0, 0.0],\n",
       " [0.0, 0.0],\n",
       " [0.0, 0.0],\n",
       " [0.0, 0.0],\n",
       " [0.0, 0.0],\n",
       " [0.0, 0.0],\n",
       " [0.0, 0.0],\n",
       " [1.0, 1.0],\n",
       " [0.0, 0.0],\n",
       " [0.0, 0.0],\n",
       " [0.0, 0.0],\n",
       " [0.0, 0.0],\n",
       " [0.0, 0.0],\n",
       " [0.0, 0.0],\n",
       " [0.0, 0.5],\n",
       " [0.5, 0.5639097744360902],\n",
       " [0.0, 0.0],\n",
       " [0.0, 0.0],\n",
       " [0.0, 0.0],\n",
       " [0.0, 0.0],\n",
       " [0.36363636363636365, 0.0],\n",
       " [0.0, 0.0],\n",
       " [0.0, 0.0],\n",
       " [0.0, 0.0],\n",
       " [0.0, 0.0],\n",
       " [0.0, 0.0],\n",
       " [0.0, 1.0],\n",
       " [0.0, 0.0],\n",
       " [0.0, 0.0],\n",
       " [0.0, 0.0],\n",
       " [0.0, 0.0],\n",
       " [0.2, 0.5],\n",
       " [0.0, 0.0],\n",
       " [0.0, 1.0],\n",
       " [1.0, 0.5],\n",
       " [0.0, 0.0],\n",
       " [1.0, 1.0],\n",
       " [0.0, 0.0],\n",
       " [0.0, 0.0],\n",
       " [0.0, 0.0],\n",
       " [0.0, 0.0],\n",
       " [0.0, 0.0],\n",
       " [0.0, 0.14682539682539683],\n",
       " [0.0, 0.33],\n",
       " [0.0, 0.18181818181818182],\n",
       " [0.0, 0.0],\n",
       " [0.0, 0.0],\n",
       " [0.0, 0.0],\n",
       " [0.3333333333333333, 0.5],\n",
       " [0.0, 0.0],\n",
       " [0.0, 0.0],\n",
       " [0.0, 0.0],\n",
       " [0.18181818181818182, 0.0],\n",
       " [0.0, 0.0],\n",
       " [0.0, 0.0],\n",
       " [0.5, 0.2727272727272727],\n",
       " [0.0, 0.0],\n",
       " [0.0, 0.0],\n",
       " [0.0, 0.0],\n",
       " [0.0, 0.0],\n",
       " [1.0, 1.0],\n",
       " [0.0, 0.0],\n",
       " [0.0, 0.0],\n",
       " [0.0, 0.0],\n",
       " [0.0, 0.0],\n",
       " [0.0, 0.0],\n",
       " [1.0, 1.0],\n",
       " [0.0, 0.0],\n",
       " [0.0, 0.0],\n",
       " [0.5, 0.5],\n",
       " [0.0, 0.0],\n",
       " [0.0, 0.0],\n",
       " [0.0, 0.0],\n",
       " [0.0, 0.0],\n",
       " [0.5, 0.4],\n",
       " [0.0, 0.0],\n",
       " [0.0, 0.0],\n",
       " [0.0, 0.0],\n",
       " [0.0, 0.0],\n",
       " [0.0, 0.0],\n",
       " [0.0, 0.0],\n",
       " [0.0, 0.0],\n",
       " [0.0, 0.0],\n",
       " [1.0, 1.0],\n",
       " [0.0, 0.16666666666666666],\n",
       " [0.0, 0.0],\n",
       " [0.0, 0.0],\n",
       " [0.0, 0.0],\n",
       " [0.0, 0.0],\n",
       " [0.0, 0.0],\n",
       " [1.0, 1.0],\n",
       " [0.0, 0.0],\n",
       " [0.2727272727272727, 0.0],\n",
       " [0.0, 0.2857142857142857],\n",
       " [0.0, 0.0],\n",
       " [0.0, 0.0],\n",
       " [0.0, 0.0],\n",
       " [0.0, 0.0],\n",
       " [0.0, 0.0]]"
      ]
     },
     "execution_count": 171,
     "metadata": {},
     "output_type": "execute_result"
    }
   ],
   "source": [
    "r2"
   ]
  },
  {
   "cell_type": "code",
   "execution_count": null,
   "metadata": {},
   "outputs": [],
   "source": []
  }
 ],
 "metadata": {
  "kernelspec": {
   "display_name": "Python 2",
   "language": "python",
   "name": "python2"
  },
  "language_info": {
   "codemirror_mode": {
    "name": "ipython",
    "version": 2
   },
   "file_extension": ".py",
   "mimetype": "text/x-python",
   "name": "python",
   "nbconvert_exporter": "python",
   "pygments_lexer": "ipython2",
   "version": "2.7.15"
  }
 },
 "nbformat": 4,
 "nbformat_minor": 2
}
